{
  "nbformat": 4,
  "nbformat_minor": 0,
  "metadata": {
    "colab": {
      "name": "Chapter 8_Final_Q Learning",
      "provenance": [],
      "collapsed_sections": [],
      "authorship_tag": "ABX9TyMe428A64izhAZhgl5uATEB",
      "include_colab_link": true
    },
    "kernelspec": {
      "name": "python3",
      "display_name": "Python 3"
    }
  },
  "cells": [
    {
      "cell_type": "markdown",
      "metadata": {
        "id": "view-in-github",
        "colab_type": "text"
      },
      "source": [
        "<a href=\"https://colab.research.google.com/github/gunnar402/AI-Crash-Course-Chapter-8/blob/main/Chapter_8_Final_Q_Learning.ipynb\" target=\"_parent\"><img src=\"https://colab.research.google.com/assets/colab-badge.svg\" alt=\"Open In Colab\"/></a>"
      ]
    },
    {
      "cell_type": "code",
      "metadata": {
        "id": "d7YYK0aa6lg0",
        "colab": {
          "base_uri": "https://localhost:8080/",
          "height": 53
        },
        "outputId": "20ebcae4-70df-41ac-b29a-676fcdce48a3"
      },
      "source": [
        "# Q-learning for Logistics\n",
        "\n",
        "# Import libraries\n",
        "import numpy as np\n",
        "\n",
        "# Set parameters alpha and gamma\n",
        "alpha = 0.9 # learning rate\n",
        "gamma = 0.75 # discount factor\n",
        "\n",
        "# Build the environment (Part 1)\n",
        "# Define the states\n",
        "location_to_state = {'A': 0,\n",
        "                     'B': 1,\n",
        "                     'C': 2,\n",
        "                     'D': 3,\n",
        "                     'E': 4,\n",
        "                     'F': 5,\n",
        "                     'G': 6,\n",
        "                     'H': 7,\n",
        "                     'I': 8,\n",
        "                     'J': 9,\n",
        "                     'K': 10,\n",
        "                     'L': 11}\n",
        "# Define the action                     \n",
        "action = [0, 1, 2, 3, 4, 5, 6, 7, 8, 9, 10, 11]\n",
        "\n",
        "# Define the rewards\n",
        "R = np.array([[0, 1, 0, 0, 0, 0, 0, 0, 0, 0, 0, 0],\n",
        "              [1, 0, 1, 0, 0, 1, 0, 0, 0, 0, 0, 0],\n",
        "              [0, 1, 0, 0, 0, 0, 1, 0, 0, 0, 0, 0],\n",
        "              [0, 0, 0, 0, 0, 0, 0, 1, 0, 0, 0, 0],\n",
        "              [0, 0, 0, 0, 0, 0, 0, 0, 1, 0, 0, 0],\n",
        "              [0, 1, 0, 0, 0, 0, 0, 0, 0, 1, 0, 0],\n",
        "              [0, 0, 1, 0, 0, 0, 1, 1, 0, 0, 0, 0],\n",
        "              [0, 0, 0, 1, 0, 0, 1, 0, 0, 0, 0, 1],\n",
        "              [0, 0, 0, 0, 1, 0, 0, 0, 0, 1, 0, 0],\n",
        "              [0, 0, 0, 0, 0, 1, 0, 0, 1, 0, 1, 0],\n",
        "              [0, 0, 0, 0, 0, 0, 0, 0, 0, 1, 0, 1],\n",
        "              [0, 0, 0, 0, 0, 0, 0, 1, 0, 0, 1, 0]])\n",
        "\n",
        "# Training (Part 2)\n",
        "\n",
        "# Function that returns the shortest route from a starting to an ending location\n",
        "def route(starting_location, ending_location):\n",
        "  R_new = np.copy(R) # This is a copy of the rewards array from Part 1\n",
        "  ending_state = location_to_state[ending_location]\n",
        "  R_new[ending_state, ending_state] = 1000\n",
        "  Q = np.array(np.zeros([12, 12])) # Initialize the Q-value array\n",
        "  \n",
        "  # Q-learning process\n",
        "  N = 1000 # number of iterations\n",
        "  for i in range (0, N):\n",
        "    current_state = np.random.randint(0, 12)\n",
        "    playable_actions = []\n",
        "    for j in range(0, 12):\n",
        "      if R_new[current_state, j] > 0:\n",
        "        playable_actions.append(j)\n",
        "    next_state = np.random.choice(playable_actions)\n",
        "    # Temporal different (see p. 86)\n",
        "    TD = R_new[current_state, next_state] + gamma * Q[next_state, np.argmax(Q[next_state,])] - Q[current_state, next_state]\n",
        "    # Bellman equation (see p. 87)\n",
        "    Q[current_state, next_state] = Q[current_state, next_state] + alpha * TD\n",
        "  \n",
        "  # Inference mode starts here\n",
        "  route = [starting_location]\n",
        "  next_location = starting_location\n",
        "  while (next_location != ending_location):\n",
        "    starting_state = location_to_state[starting_location]\n",
        "    next_state = np.argmax(Q[starting_state,]) # max Q value in row 'starting_state'\n",
        "    next_location = state_to_location[next_state]\n",
        "    route.append(next_location)\n",
        "    starting_location = next_location\n",
        "  return route\n",
        "\n",
        "\n",
        "# Inference Mode (Part 3)\n",
        "# Mapping from states to locations\n",
        "state_to_location = {state: location for location, state in location_to_state.items()}\n",
        "\n",
        "# Printing the final route\n",
        "print('Route:')\n",
        "route('D', 'E')\n",
        "\n"
      ],
      "execution_count": null,
      "outputs": [
        {
          "output_type": "stream",
          "text": [
            "Route:\n"
          ],
          "name": "stdout"
        },
        {
          "output_type": "execute_result",
          "data": {
            "text/plain": [
              "['D', 'H', 'L', 'K', 'J', 'I', 'E']"
            ]
          },
          "metadata": {
            "tags": []
          },
          "execution_count": 12
        }
      ]
    }
  ]
}